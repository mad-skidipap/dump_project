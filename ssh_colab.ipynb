{
  "nbformat": 4,
  "nbformat_minor": 0,
  "metadata": {
    "colab": {
      "name": "ssh_colab.ipynb",
      "provenance": [],
      "collapsed_sections": []
    },
    "kernelspec": {
      "name": "python3",
      "display_name": "Python 3"
    },
    "accelerator": "GPU"
  },
  "cells": [
    {
      "cell_type": "code",
      "metadata": {
        "id": "Ge_Z2WyHCj9Y",
        "colab_type": "code",
        "outputId": "40819c1a-cd7c-4543-cda3-09c394b10cd9",
        "colab": {
          "base_uri": "https://localhost:8080/",
          "height": 825
        }
      },
      "source": [
        "!pip install git+https://github.com/demotomohiro/remocolab.git\n",
        "import remocolab\n",
        "remocolab.setupSSHD(ngrok_region = \"ap\")"
      ],
      "execution_count": 0,
      "outputs": [
        {
          "output_type": "stream",
          "text": [
            "Collecting git+https://github.com/demotomohiro/remocolab.git\n",
            "  Cloning https://github.com/demotomohiro/remocolab.git to /tmp/pip-req-build-7vfqqt4g\n",
            "  Running command git clone -q https://github.com/demotomohiro/remocolab.git /tmp/pip-req-build-7vfqqt4g\n",
            "Building wheels for collected packages: remocolab.py\n",
            "  Building wheel for remocolab.py (setup.py) ... \u001b[?25l\u001b[?25hdone\n",
            "  Created wheel for remocolab.py: filename=remocolab.py-0.1-cp36-none-any.whl size=5478 sha256=9152265f0ae70fc45e81d1137b15d5a6c79cd030c7b83847b4b24393bd7b60f0\n",
            "  Stored in directory: /tmp/pip-ephem-wheel-cache-tzq1c6pm/wheels/9e/c3/02/22e12a4614e679c5555718bd4d0356e4b7cc1d69a1f3ddb564\n",
            "Successfully built remocolab.py\n",
            "Installing collected packages: remocolab.py\n",
            "Successfully installed remocolab.py-0.1\n",
            "---\n",
            "Copy&paste your tunnel authtoken from https://dashboard.ngrok.com/auth\n",
            "(You need to sign up for ngrok and login,)\n",
            "··········\n",
            "Install openssh-server\n",
            "ECDSA key fingerprint of host:\n",
            "256 SHA256:m6lyKWwqzmYlJTiusYszu5ObKCjb2iUZRPn//GGmEP4 root@3b937fd8eb08 (ECDSA)\n",
            "+---[ECDSA 256]---+\n",
            "|  ..             |\n",
            "| ..              |\n",
            "|. ..             |\n",
            "|oo ..            |\n",
            "|..+  .. S        |\n",
            "|.o + ... +       |\n",
            "|o+=.. o++ +      |\n",
            "|/* o= o+o+ .     |\n",
            "|^#+o +. E..      |\n",
            "+----[SHA256]-----+\n",
            "\n",
            "✂️✂️✂️✂️✂️✂️✂️✂️✂️✂️✂️✂️✂️✂️✂️✂️✂️✂️✂️✂️✂️✂️✂️✂️\n",
            "root password: qF7yXCVANufC_J1lHIZg4DelukIOT-WzyeMlBWYxWX8\n",
            "colab password: tkncwuY4i5Tt6pqSEkJw1_8BBhMVBnaVQ2ZdUwwQkpM\n",
            "✂️✂️✂️✂️✂️✂️✂️✂️✂️✂️✂️✂️✂️✂️✂️✂️✂️✂️✂️✂️✂️✂️✂️✂️\n",
            "---\n",
            "Command to connect to the ssh server:\n",
            "✂️✂️✂️✂️✂️✂️✂️✂️✂️✂️✂️✂️✂️✂️✂️✂️✂️✂️✂️✂️✂️✂️✂️✂️\n",
            "ssh -o UserKnownHostsFile=/dev/null -o VisualHostKey=yes -p 13026 colab@0.tcp.ap.ngrok.io\n",
            "✂️✂️✂️✂️✂️✂️✂️✂️✂️✂️✂️✂️✂️✂️✂️✂️✂️✂️✂️✂️✂️✂️✂️✂️\n",
            "---\n",
            "If you use VNC:\n",
            "✂️✂️✂️✂️✂️✂️✂️✂️✂️✂️✂️✂️✂️✂️✂️✂️✂️✂️✂️✂️✂️✂️✂️✂️\n",
            "ssh -o UserKnownHostsFile=/dev/null -o VisualHostKey=yes -L 5901:localhost:5901 -p 13026 colab@0.tcp.ap.ngrok.io\n",
            "✂️✂️✂️✂️✂️✂️✂️✂️✂️✂️✂️✂️✂️✂️✂️✂️✂️✂️✂️✂️✂️✂️✂️✂️\n"
          ],
          "name": "stdout"
        },
        {
          "output_type": "execute_result",
          "data": {
            "text/plain": [
              "True"
            ]
          },
          "metadata": {
            "tags": []
          },
          "execution_count": 1
        }
      ]
    },
    {
      "cell_type": "code",
      "metadata": {
        "id": "7NeN7OMtVL9O",
        "colab_type": "code",
        "colab": {}
      },
      "source": [
        ""
      ],
      "execution_count": 0,
      "outputs": []
    },
    {
      "cell_type": "code",
      "metadata": {
        "id": "UUB2CQ6a9dgw",
        "colab_type": "code",
        "colab": {}
      },
      "source": [
        ""
      ],
      "execution_count": 0,
      "outputs": []
    }
  ]
}